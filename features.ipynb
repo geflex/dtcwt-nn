{
 "cells": [
  {
   "cell_type": "code",
   "execution_count": null,
   "metadata": {},
   "outputs": [],
   "source": [
    "import pywt \n",
    "import features\n",
    "from matplotlib import pyplot as plt, rc_context\n",
    "import numpy as np\n",
    "import scipy\n",
    "import add_labels\n",
    "from mpl_styles import list_sizes"
   ]
  },
  {
   "cell_type": "markdown",
   "metadata": {},
   "source": [
    "# Simulate signal"
   ]
  },
  {
   "cell_type": "code",
   "execution_count": null,
   "metadata": {},
   "outputs": [],
   "source": [
    "sim_fs = 4096\n",
    "sim_dt = 1/sim_fs\n",
    "sim_x = np.arange(0, 4, sim_dt)  # time\n",
    "sim_b = sp.signal.chirp(sim_x, 32, sim_x[-1], sim_fs//2, method='logarithmic')\n",
    "sim_b += np.random.normal(0, .1, size=len(sim_x))\n",
    "\n",
    "spectrum, _, _, im = plt.specgram(sim_b, Fs=sim_fs)\n",
    "plt.yscale('symlog', base=2)\n",
    "add_labels.spec()\n",
    "# plt.colorbar(im)\n",
    "\n",
    "plt.savefig(OUT_PATH / 'sim_b_spec.png')"
   ]
  },
  {
   "cell_type": "markdown",
   "metadata": {},
   "source": [
    "# DTCWT"
   ]
  },
  {
   "cell_type": "code",
   "execution_count": null,
   "metadata": {},
   "outputs": [],
   "source": [
    "plt.figure()\n",
    "scalogram = features.dtcwt(sim_b, 13, False, True)\n",
    "im = plt.imshow(scalogram)\n",
    "add_labels.dwt()\n",
    "# plt.colorbar(im)\n",
    "plt.tight_layout()\n",
    "plt.savefig(OUT_PATH / 'sim_b_dtcwt.png')"
   ]
  },
  {
   "cell_type": "markdown",
   "metadata": {},
   "source": [
    "# DWT"
   ]
  },
  {
   "cell_type": "code",
   "execution_count": null,
   "metadata": {},
   "outputs": [],
   "source": [
    "plt.figure(figsize=list_sizes['A4/2'])\n",
    "\n",
    "plt.subplot(2, 2, 1)\n",
    "im = plt.imshow(features.dwt(sim_b, 'db1', 13))\n",
    "add_labels.dwt()\n",
    "\n",
    "plt.subplot(2, 2, 2)\n",
    "im = plt.imshow(features.dwt(sim_b, 'db8', 13))\n",
    "add_labels.dwt()\n",
    "\n",
    "plt.subplot(2, 2, 3)\n",
    "im = plt.imshow(features.dwt(sim_b, 'bior1.5', 13))\n",
    "add_labels.dwt()\n",
    "\n",
    "plt.subplot(2, 2, 4)\n",
    "im = plt.imshow(features.dwt(sim_b, 'dmey', 13))\n",
    "add_labels.dwt()\n",
    "\n",
    "plt.tight_layout()\n",
    "plt.savefig(OUT_PATH / 'sim_b_dwt.png')"
   ]
  },
  {
   "cell_type": "markdown",
   "metadata": {},
   "source": [
    "# MRA (SWT + DWT)"
   ]
  },
  {
   "cell_type": "code",
   "execution_count": null,
   "metadata": {},
   "outputs": [],
   "source": [
    "plt.figure(figsize=list_sizes['A4/2'] / np.array([1, 2]))\n",
    "\n",
    "plt.subplot(1, 2, 1)\n",
    "cA, *cDs = pywt.mra(sim_b, 'db8', level=13, transform='swt')\n",
    "arr = np.stack(reversed(cDs))\n",
    "im = plt.imshow(arr)\n",
    "add_labels.dwt()\n",
    "\n",
    "plt.subplot(1, 2, 2)\n",
    "cA, *cDs = pywt.mra(sim_b, 'db8', level=13, transform='dwt')\n",
    "arr = np.stack(reversed(cDs))\n",
    "im = plt.imshow(arr)\n",
    "add_labels.dwt()\n",
    "\n",
    "plt.tight_layout()\n",
    "plt.savefig(OUT_PATH / 'sim_b_mra.png')"
   ]
  },
  {
   "cell_type": "markdown",
   "metadata": {},
   "source": [
    "# Cont WT"
   ]
  },
  {
   "cell_type": "code",
   "execution_count": null,
   "metadata": {},
   "outputs": [],
   "source": [
    "w = 6.\n",
    "freq_num = 63\n",
    "freqs = np.linspace(1, sim_fs/2, freq_num)\n",
    "widths = w*sim_fs / (2*freqs*np.pi)\n",
    "im = scipy.signal.cwt(sim_b, scipy.signal.morlet2, widths, w=w)\n",
    "plt.imshow(np.flip(np.abs(im)))\n",
    "plt.xlabel(add_labels.samples)\n",
    "plt.ylabel(add_labels.hz)\n",
    "pass"
   ]
  },
  {
   "cell_type": "markdown",
   "metadata": {},
   "source": [
    "# All"
   ]
  },
  {
   "cell_type": "code",
   "execution_count": null,
   "metadata": {},
   "outputs": [],
   "source": [
    "plt.figure(figsize=list_sizes['A4'])\n",
    "def subplot(n):\n",
    "    plt.subplot(4, 2, n)\n",
    "\n",
    "with rc_context({'axes.grid': False}):\n",
    "    subplot(1)\n",
    "    plt.title('Оконное преобразование Фурье')\n",
    "    spectrum, _, _, im = plt.specgram(sim_b, Fs=sim_fs)\n",
    "    plt.yscale('symlog', base=2)\n",
    "    add_labels.spec()\n",
    "    subplot(2)\n",
    "    plt.title('КВП-ДД (13 ур.)')\n",
    "    plt.imshow(features.dtcwt(sim_b, 13, False, True))\n",
    "    add_labels.dwt()\n",
    "    subplot(3)\n",
    "    plt.title('ДВП (db1, 13 ур.)')\n",
    "    im = plt.imshow(features.dwt(sim_b, 'db1', 13))\n",
    "    add_labels.dwt()\n",
    "    subplot(4)\n",
    "    plt.title('ДВП (db8, 13 ур.)')\n",
    "    im = plt.imshow(features.dwt(sim_b, 'db8', 13))\n",
    "    add_labels.dwt()\n",
    "    subplot(5)\n",
    "    plt.title('ДВП (bior1.5, 13 ур.)')\n",
    "    im = plt.imshow(features.dwt(sim_b, 'bior1.5', 13))\n",
    "    add_labels.dwt()\n",
    "    subplot(6)\n",
    "    plt.title('ДВП (dmey, 13 ур.)')\n",
    "    im = plt.imshow(features.dwt(sim_b, 'dmey', 13))\n",
    "\n",
    "    subplot(7)\n",
    "    plt.title('MRA ДВП (db8, 13 ур.)')\n",
    "    cA, *cDs = pywt.mra(sim_b, 'db8', level=13, transform='dwt')\n",
    "    arr = np.stack(reversed(cDs))\n",
    "    im = plt.imshow(arr)\n",
    "    add_labels.dwt()\n",
    "\n",
    "    subplot(8)\n",
    "    plt.title('MRA СВП (db8, 13 ур.)')\n",
    "    cA, *cDs = pywt.mra(sim_b, 'db8', level=13, transform='swt')\n",
    "    arr = np.stack(reversed(cDs))\n",
    "    im = plt.imshow(arr)\n",
    "    add_labels.dwt()\n",
    "\n",
    "    plt.tight_layout()\n",
    "    plt.savefig(OUT_PATH / 'sim_b_all.png')"
   ]
  }
 ],
 "metadata": {
  "language_info": {
   "name": "python"
  },
  "orig_nbformat": 4
 },
 "nbformat": 4,
 "nbformat_minor": 2
}
