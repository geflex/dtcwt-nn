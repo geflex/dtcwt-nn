{
 "cells": [
  {
   "cell_type": "code",
   "execution_count": null,
   "metadata": {},
   "outputs": [],
   "source": [
    "from dtcwt.coeffs import biort, qshift\n",
    "import matplotlib.pyplot as plt\n",
    "import numpy as np\n",
    "import tensorflow as tf\n",
    "\n",
    "from mpl_styles import list_sizes\n",
    "import add_labels\n",
    "import helpers"
   ]
  },
  {
   "cell_type": "markdown",
   "metadata": {},
   "source": [
    "# DTCWT biort filters"
   ]
  },
  {
   "cell_type": "code",
   "execution_count": null,
   "metadata": {},
   "outputs": [],
   "source": [
    "wavelets = ('antonini', 'legall', 'near_sym_a', 'near_sym_b')\n",
    "descriptions = (\n",
    "    \"Antonini 9,7 tap filters\",\n",
    "    \"LeGall 5,3 tap filters\",\n",
    "    \"Near-Symmetric 5,7 tap filters\",\n",
    "    \"Near-Symmetric 13,19 tap filters\",\n",
    "    \"Near-Symmetric 13,19 tap filters + BP filter\",\n",
    ")\n",
    "filter_names = ('h0o', 'g0o', 'h1o', 'g1o')\n",
    "filt_notations = ('h0R', '', 'h1R', '')\n",
    "for wavelet, desc in zip(wavelets, descriptions):\n",
    "    filts = [(f, n, m) for f, n, m in zip(biort(wavelet), filter_names, filt_notations) if n.startswith('h')]\n",
    "    fig, axs = plt.subplots(2, len(filts))\n",
    "    fig.suptitle(f'{wavelet} - {desc}')\n",
    "    axs = axs.T\n",
    "    for ax, ax2, (filt, filt_name, mnot) in zip(axs[0], axs[1], filts):\n",
    "        filt = filt[:, 0]\n",
    "        \n",
    "        ax.set_title(mnot)\n",
    "        [line] = ax.plot(np.arange(len(filt)), filt)\n",
    "        add_labels.sample(ax)\n",
    "\n",
    "        ax2.set_title(f'{mnot} - АЧХ')\n",
    "        [line] = ax2.plot(*helpers.fourier_image(filt, 1/len(filt)))\n",
    "        add_labels.fourier(ax2)\n",
    "        \n",
    "    fig.tight_layout()\n",
    "    fig.savefig(f'out/dtcwt_filters/{wavelet}.png')"
   ]
  },
  {
   "cell_type": "markdown",
   "metadata": {},
   "source": [
    "# DTCWT qshift filters"
   ]
  },
  {
   "cell_type": "code",
   "execution_count": null,
   "metadata": {},
   "outputs": [],
   "source": [
    "filter_names = ('h0Re', 'h0Im', 'g0a', 'g0b', 'h1Re', 'h1Im', 'g1a', 'g1b')\n",
    "wavelet_names = ('qshift_06', 'qshift_a', 'qshift_b', 'qshift_b', 'qshift_c', 'qshift_d')\n",
    "wavelet_descriptions = (\n",
    "    \"Quarter Sample Shift Orthogonal (Q-Shift) 10,10 tap filters, (only 6,6 non-zero taps).\",\n",
    "    \"Q-shift 10,10 tap filters, (with 10,10 non-zero taps, unlike qshift_06).\",\n",
    "    \"Q-Shift 14,14 tap filters.\",\n",
    "    \"Q-Shift 16,16 tap filters.\",\n",
    "    \"Q-Shift 18,18 tap filters.\",\n",
    ")\n",
    "\n",
    "for wavelet, desc in zip(wavelet_names, wavelet_descriptions):\n",
    "    filts = [(f, n) for f, n in zip(qshift(wavelet), filter_names) if n.startswith('h')]\n",
    "    fig, axs = plt.subplots(len(filts), 2, figsize=list_sizes['A4'])\n",
    "    fig.suptitle(f'{wavelet} - {desc}')\n",
    "    axs = axs.T\n",
    "    print(wavelet)\n",
    "    for ax, ax2, (filt, filt_name) in zip(axs[0], axs[1], filts):\n",
    "        filt = filt[:, 0]\n",
    "        ax.set_title(filt_name)\n",
    "        [line] = ax.plot(np.arange(len(filt)), filt)\n",
    "        add_labels.sample(ax)\n",
    "\n",
    "        ax2.set_title(f'{filt_name} - АЧХ')\n",
    "        [line] = ax2.plot(*helpers.fourier_image(filt, 1/len(filt)))\n",
    "        add_labels.fourier(ax2)\n",
    "\n",
    "    fig.tight_layout()\n",
    "    fig.savefig(f'out/dtcwt_filters/{wavelet}.png')"
   ]
  },
  {
   "cell_type": "markdown",
   "metadata": {},
   "source": [
    "# Sigmoid"
   ]
  },
  {
   "cell_type": "code",
   "execution_count": null,
   "metadata": {},
   "outputs": [],
   "source": [
    "x = np.linspace(-6, 6, 1000)\n",
    "plt.figure(figsize=list_sizes['A4/2']*np.array([1/2, 1/2]))\n",
    "plt.plot(x, tf.math.sigmoid(x))\n",
    "plt.xlabel('x')\n",
    "plt.ylabel('sigmoid(x)')\n",
    "plt.tight_layout()\n",
    "# plt.savefig(OUT_PATH / 'sigmoid.png')"
   ]
  },
  {
   "cell_type": "markdown",
   "metadata": {},
   "source": [
    "# ReLU"
   ]
  },
  {
   "cell_type": "code",
   "execution_count": null,
   "metadata": {},
   "outputs": [],
   "source": [
    "plt.figure(figsize=list_sizes['A4/2']*np.array([1/2, 1/2]))\n",
    "plt.plot(x, tf.nn.relu(x))\n",
    "plt.xlabel('x')\n",
    "plt.ylabel('relu(x)')\n",
    "plt.tight_layout()\n",
    "# plt.savefig(OUT_PATH / 'relu.png')"
   ]
  }
 ],
 "metadata": {
  "interpreter": {
   "hash": "ca8f07ed333b8730c479c06e89a81c566136c28e1e6430f02cf69efccbc0b461"
  },
  "kernelspec": {
   "display_name": "Python 3.9.0 ('diploma-N8xCYB5U-py3.9')",
   "language": "python",
   "name": "python3"
  },
  "language_info": {
   "name": "python",
   "version": "3.9.0"
  },
  "orig_nbformat": 4
 },
 "nbformat": 4,
 "nbformat_minor": 2
}
